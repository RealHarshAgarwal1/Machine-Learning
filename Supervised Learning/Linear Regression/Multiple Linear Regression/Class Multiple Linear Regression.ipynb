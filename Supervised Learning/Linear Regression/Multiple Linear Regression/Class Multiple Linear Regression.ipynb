{
 "cells": [
  {
   "cell_type": "code",
   "execution_count": 5,
   "id": "e054b743",
   "metadata": {},
   "outputs": [],
   "source": [
    "from sklearn.datasets import make_regression\n",
    "import pandas as pd\n",
    "import numpy as np\n",
    "import plotly.express as px\n",
    "import plotly.graph_objects as go\n",
    "from sklearn.metrics import mean_absolute_error,mean_squared_error,r2_score\n",
    "\n",
    "X,y = make_regression(n_samples=100,n_features=2,n_informative=2,n_targets=1,noise=50)\n",
    "\n",
    "df=pd.DataFrame({'feature1':X[:,0],'feature2':X[:,1],'target':y})\n",
    "from sklearn.model_selection import train_test_split\n",
    "X_train,X_test,y_train,y_test = train_test_split(X,y,test_size=0.2,random_state=3)\n"
   ]
  },
  {
   "cell_type": "code",
   "execution_count": 23,
   "id": "36a20626",
   "metadata": {},
   "outputs": [],
   "source": [
    "class MyLR:\n",
    "\n",
    "  def _init_(self):\n",
    "    self.coef = None\n",
    "    self.intercept = None\n",
    "\n",
    "  def fit(self,X_train,y_train):\n",
    "    X_train = np.insert(X_train,0,1,axis=1)\n",
    "\n",
    "    # calculate the coefficients\n",
    "    betas = np.linalg.inv(np.dot(X_train.T,X_train)).dot(X_train.T).dot(y_train)\n",
    "    self.intercept_ = betas[0]\n",
    "    self.coef_ = betas[1:]\n",
    "\n",
    "  def predict(self,X_test):\n",
    "    y_pred = np.dot(X_test,self.coef_) + self.intercept_\n",
    "    return y_pred"
   ]
  },
  {
   "cell_type": "code",
   "execution_count": 24,
   "id": "d3feed11",
   "metadata": {},
   "outputs": [],
   "source": [
    "lr = MyLR()"
   ]
  },
  {
   "cell_type": "code",
   "execution_count": 26,
   "id": "0b882ace",
   "metadata": {},
   "outputs": [
    {
     "name": "stdout",
     "output_type": "stream",
     "text": [
      "Intercept:  -2.034653379381619\n",
      "Coefficient:  [68.20516589 49.06346091]\n",
      "MAE:  43.54404406378619\n",
      "MSE:  3080.5666858031536\n",
      "R2 Score:  0.5384718144608249\n"
     ]
    }
   ],
   "source": [
    "lr.fit(X_train,y_train)\n",
    "print(\"Intercept: \",lr.intercept_)\n",
    "print(\"Coefficient: \",lr.coef_)\n",
    "y_pred = lr.predict(X_test)\n",
    "print(\"MAE: \",mean_absolute_error(y_test,y_pred))\n",
    "print(\"MSE: \",mean_squared_error(y_test,y_pred))\n",
    "print(\"R2 Score: \",r2_score(y_test,y_pred))"
   ]
  }
 ],
 "metadata": {
  "kernelspec": {
   "display_name": ".venv",
   "language": "python",
   "name": "python3"
  },
  "language_info": {
   "codemirror_mode": {
    "name": "ipython",
    "version": 3
   },
   "file_extension": ".py",
   "mimetype": "text/x-python",
   "name": "python",
   "nbconvert_exporter": "python",
   "pygments_lexer": "ipython3",
   "version": "3.13.6"
  }
 },
 "nbformat": 4,
 "nbformat_minor": 5
}
